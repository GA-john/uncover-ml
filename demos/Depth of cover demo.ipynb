{
 "cells": [
  {
   "cell_type": "markdown",
   "metadata": {},
   "source": [
    "Drill Hole Compound Likelihood Demo\n",
    "==================================="
   ]
  },
  {
   "cell_type": "code",
   "execution_count": 1,
   "metadata": {
    "collapsed": true
   },
   "outputs": [],
   "source": [
    "%matplotlib inline"
   ]
  },
  {
   "cell_type": "code",
   "execution_count": 2,
   "metadata": {
    "collapsed": true
   },
   "outputs": [],
   "source": [
    "import matplotlib.pyplot as pl\n",
    "import numpy as np\n",
    "import logging\n",
    "\n",
    "from revrand import glm\n",
    "from revrand.basis_functions import BiasBasis, RandomRBF\n",
    "from revrand.btypes import Parameter, Positive\n",
    "from revrand.utils.datasets import gen_gausprocess_se\n",
    "from revrand.mathfun.special import softplus\n",
    "\n",
    "from uncoverml.likelihoods import Switching\n",
    "\n",
    "# Log output to the terminal attached to this notebook\n",
    "import logging\n",
    "logger = logging.getLogger()\n",
    "logger.setLevel(logging.DEBUG)\n",
    "logging.debug(\"test\")\n",
    "\n",
    "# Warning handling\n",
    "#np.seterr(all='warn')\n",
    "import warnings\n",
    "warnings.filterwarnings('error')\n"
   ]
  },
  {
   "cell_type": "markdown",
   "metadata": {},
   "source": [
    "Demo settings\n",
    "-------------"
   ]
  },
  {
   "cell_type": "code",
   "execution_count": 3,
   "metadata": {
    "collapsed": true
   },
   "outputs": [],
   "source": [
    "# Dataset properties\n",
    "N = 300\n",
    "Ns = 250\n",
    "offset = 20\n",
    "lenscale_true = 0.7  # For the gpdraw dataset\n",
    "noise_true = 0.1\n",
    "hit_proportion = 0.0\n",
    "\n",
    "fig_width = 15\n",
    "fig_height = 10\n"
   ]
  },
  {
   "cell_type": "markdown",
   "metadata": {},
   "source": [
    "Algorithm Settings\n",
    "------------------"
   ]
  },
  {
   "cell_type": "code",
   "execution_count": 4,
   "metadata": {
    "collapsed": true
   },
   "outputs": [],
   "source": [
    "nbases = 100\n",
    "lenscale = 1  # For all basis functions that take lengthscales\n",
    "rho = 0.9\n",
    "epsilon = 1e-5\n",
    "maxiter = 4000\n",
    "batch_size = 10\n",
    "kappa = 6\n",
    "use_sgd = True\n",
    "regulariser = 1.\n",
    "noise = 0.5\n"
   ]
  },
  {
   "cell_type": "markdown",
   "metadata": {},
   "source": [
    "Make data\n",
    "---------"
   ]
  },
  {
   "cell_type": "code",
   "execution_count": 5,
   "metadata": {
    "collapsed": true
   },
   "outputs": [],
   "source": [
    "hit = np.random.binomial(n=1, p=hit_proportion, size=N).astype(bool)\n",
    "not_hit = ~ hit\n",
    "Xtrain, ftrain, Xtest, ftest = \\\n",
    "    gen_gausprocess_se(N, Ns, lenscale=lenscale_true, noise=0.0)\n",
    "\n",
    "gtrain = ftrain + offset\n",
    "gtest = ftest + offset\n",
    "\n",
    "ytrain = np.empty(N)\n",
    "ytrain[hit] = gtrain[hit] + np.random.randn(hit.sum()) * noise_true\n",
    "ytrain[not_hit] = np.random.rand(not_hit.sum()) * gtrain[not_hit]\n"
   ]
  },
  {
   "cell_type": "markdown",
   "metadata": {},
   "source": [
    "Set up likelihood and Basis\n",
    "---------------------------"
   ]
  },
  {
   "cell_type": "code",
   "execution_count": 6,
   "metadata": {
    "collapsed": false
   },
   "outputs": [],
   "source": [
    "# Make parameter types\n",
    "var = Parameter(noise**2, Positive())\n",
    "regulariser = Parameter(regulariser, Positive())\n",
    "lenscale_init = Parameter(lenscale, Positive())\n",
    "\n",
    "# Likelihood\n",
    "like = Switching(var_init=var)\n",
    "\n",
    "# Regression Basis\n",
    "basis = BiasBasis(offset=offset) \\\n",
    "    + RandomRBF(nbases, Xtrain.shape[1], lenscale_init)\n"
   ]
  },
  {
   "cell_type": "markdown",
   "metadata": {},
   "source": [
    "Learning and prediction\n",
    "-----------------------"
   ]
  },
  {
   "cell_type": "code",
   "execution_count": 7,
   "metadata": {
    "collapsed": false
   },
   "outputs": [
    {
     "ename": "RuntimeWarning",
     "evalue": "overflow encountered in square",
     "output_type": "error",
     "traceback": [
      "\u001b[1;31m---------------------------------------------------------------------------\u001b[0m",
      "\u001b[1;31mRuntimeWarning\u001b[0m                            Traceback (most recent call last)",
      "\u001b[1;32m<ipython-input-7-6f2962c527f9>\u001b[0m in \u001b[0;36m<module>\u001b[1;34m()\u001b[0m\n\u001b[0;32m      2\u001b[0m params = glm.learn(Xtrain, ytrain, like, basis, regulariser=regulariser,\n\u001b[0;32m      3\u001b[0m                    \u001b[0mlikelihood_args\u001b[0m\u001b[1;33m=\u001b[0m\u001b[1;33m(\u001b[0m\u001b[0mhit\u001b[0m\u001b[1;33m,\u001b[0m\u001b[1;33m)\u001b[0m\u001b[1;33m,\u001b[0m \u001b[0muse_sgd\u001b[0m\u001b[1;33m=\u001b[0m\u001b[0muse_sgd\u001b[0m\u001b[1;33m,\u001b[0m \u001b[0mrho\u001b[0m\u001b[1;33m=\u001b[0m\u001b[0mrho\u001b[0m\u001b[1;33m,\u001b[0m\u001b[1;33m\u001b[0m\u001b[0m\n\u001b[1;32m----> 4\u001b[1;33m                    epsilon=epsilon, batch_size=batch_size, maxiter=maxiter)\n\u001b[0m\u001b[0;32m      5\u001b[0m \u001b[1;33m\u001b[0m\u001b[0m\n\u001b[0;32m      6\u001b[0m \u001b[1;31m# Expected drill hole measurements (proxy for basement depth)\u001b[0m\u001b[1;33m\u001b[0m\u001b[1;33m\u001b[0m\u001b[0m\n",
      "\u001b[1;32m/home/dsteinberg/.virtualenvs/uncover-ml/lib/python3.5/site-packages/revrand/glm.py\u001b[0m in \u001b[0;36mlearn\u001b[1;34m(X, y, likelihood, basis, regulariser, likelihood_args, postcomp, use_sgd, maxiter, tol, batch_size, rho, epsilon)\u001b[0m\n\u001b[0;32m    260\u001b[0m         \u001b[0mupdater\u001b[0m \u001b[1;33m=\u001b[0m \u001b[0mAdaDelta\u001b[0m\u001b[1;33m(\u001b[0m\u001b[0mrho\u001b[0m\u001b[1;33m=\u001b[0m\u001b[0mrho\u001b[0m\u001b[1;33m,\u001b[0m \u001b[0mepsilon\u001b[0m\u001b[1;33m=\u001b[0m\u001b[0mepsilon\u001b[0m\u001b[1;33m)\u001b[0m\u001b[1;33m\u001b[0m\u001b[0m\n\u001b[0;32m    261\u001b[0m         res = nsgd(L2, params, data, maxiter=maxiter, updater=updater,\n\u001b[1;32m--> 262\u001b[1;33m                    batch_size=batch_size, eval_obj=True)\n\u001b[0m\u001b[0;32m    263\u001b[0m \u001b[1;33m\u001b[0m\u001b[0m\n\u001b[0;32m    264\u001b[0m     \u001b[1;31m# Unpack params\u001b[0m\u001b[1;33m\u001b[0m\u001b[1;33m\u001b[0m\u001b[0m\n",
      "\u001b[1;32m/home/dsteinberg/.virtualenvs/uncover-ml/lib/python3.5/site-packages/revrand/optimize/base.py\u001b[0m in \u001b[0;36mnew_sgd\u001b[1;34m(fun, parameters, data, eval_obj, **sgd_kwargs)\u001b[0m\n\u001b[0;32m    372\u001b[0m \u001b[1;33m\u001b[0m\u001b[0m\n\u001b[0;32m    373\u001b[0m         result = sgd(new_fun, array1d, data=data, bounds=fbounds,\n\u001b[1;32m--> 374\u001b[1;33m                      eval_obj=eval_obj, **sgd_kwargs)\n\u001b[0m\u001b[0;32m    375\u001b[0m         \u001b[0mresult\u001b[0m\u001b[1;33m[\u001b[0m\u001b[1;34m'x'\u001b[0m\u001b[1;33m]\u001b[0m \u001b[1;33m=\u001b[0m \u001b[0mtuple\u001b[0m\u001b[1;33m(\u001b[0m\u001b[0munflatten\u001b[0m\u001b[1;33m(\u001b[0m\u001b[0mresult\u001b[0m\u001b[1;33m[\u001b[0m\u001b[1;34m'x'\u001b[0m\u001b[1;33m]\u001b[0m\u001b[1;33m,\u001b[0m \u001b[0mshapes\u001b[0m\u001b[1;33m)\u001b[0m\u001b[1;33m)\u001b[0m\u001b[1;33m\u001b[0m\u001b[0m\n\u001b[0;32m    376\u001b[0m         \u001b[1;32mreturn\u001b[0m \u001b[0mresult\u001b[0m\u001b[1;33m\u001b[0m\u001b[0m\n",
      "\u001b[1;32m/home/dsteinberg/.virtualenvs/uncover-ml/lib/python3.5/site-packages/revrand/optimize/base.py\u001b[0m in \u001b[0;36mnew_sgd\u001b[1;34m(fun, x0, data, bounds, eval_obj, **sgd_kwargs)\u001b[0m\n\u001b[0;32m    525\u001b[0m         \u001b[1;31m# Transform the final result\u001b[0m\u001b[1;33m\u001b[0m\u001b[1;33m\u001b[0m\u001b[0m\n\u001b[0;32m    526\u001b[0m         result = sgd(new_fun, logx(x0), data, bounds=bounds, eval_obj=eval_obj,\n\u001b[1;32m--> 527\u001b[1;33m                      **sgd_kwargs)\n\u001b[0m\u001b[0;32m    528\u001b[0m         \u001b[0mresult\u001b[0m\u001b[1;33m[\u001b[0m\u001b[1;34m'x'\u001b[0m\u001b[1;33m]\u001b[0m \u001b[1;33m=\u001b[0m \u001b[0mexpx\u001b[0m\u001b[1;33m(\u001b[0m\u001b[0mresult\u001b[0m\u001b[1;33m[\u001b[0m\u001b[1;34m'x'\u001b[0m\u001b[1;33m]\u001b[0m\u001b[1;33m)\u001b[0m\u001b[1;33m\u001b[0m\u001b[0m\n\u001b[0;32m    529\u001b[0m         \u001b[1;32mreturn\u001b[0m \u001b[0mresult\u001b[0m\u001b[1;33m\u001b[0m\u001b[0m\n",
      "\u001b[1;32m/home/dsteinberg/.virtualenvs/uncover-ml/lib/python3.5/site-packages/revrand/optimize/sgd.py\u001b[0m in \u001b[0;36msgd\u001b[1;34m(fun, x0, data, args, bounds, batch_size, maxiter, updater, eval_obj)\u001b[0m\n\u001b[0;32m    290\u001b[0m \u001b[1;33m\u001b[0m\u001b[0m\n\u001b[0;32m    291\u001b[0m         \u001b[1;31m# perform update\u001b[0m\u001b[1;33m\u001b[0m\u001b[1;33m\u001b[0m\u001b[0m\n\u001b[1;32m--> 292\u001b[1;33m         \u001b[0mx\u001b[0m \u001b[1;33m=\u001b[0m \u001b[0mupdater\u001b[0m\u001b[1;33m(\u001b[0m\u001b[0mx\u001b[0m\u001b[1;33m,\u001b[0m \u001b[0mgrad\u001b[0m\u001b[1;33m)\u001b[0m\u001b[1;33m\u001b[0m\u001b[0m\n\u001b[0m\u001b[0;32m    293\u001b[0m \u001b[1;33m\u001b[0m\u001b[0m\n\u001b[0;32m    294\u001b[0m         \u001b[1;31m# Trucate steps if bounded\u001b[0m\u001b[1;33m\u001b[0m\u001b[1;33m\u001b[0m\u001b[0m\n",
      "\u001b[1;32m/home/dsteinberg/.virtualenvs/uncover-ml/lib/python3.5/site-packages/revrand/optimize/sgd.py\u001b[0m in \u001b[0;36m__call__\u001b[1;34m(self, x, grad)\u001b[0m\n\u001b[0;32m     90\u001b[0m         \"\"\"\n\u001b[0;32m     91\u001b[0m \u001b[1;33m\u001b[0m\u001b[0m\n\u001b[1;32m---> 92\u001b[1;33m         \u001b[0mself\u001b[0m\u001b[1;33m.\u001b[0m\u001b[0mEg2\u001b[0m \u001b[1;33m=\u001b[0m \u001b[0mself\u001b[0m\u001b[1;33m.\u001b[0m\u001b[0mrho\u001b[0m \u001b[1;33m*\u001b[0m \u001b[0mself\u001b[0m\u001b[1;33m.\u001b[0m\u001b[0mEg2\u001b[0m \u001b[1;33m+\u001b[0m \u001b[1;33m(\u001b[0m\u001b[1;36m1\u001b[0m \u001b[1;33m-\u001b[0m \u001b[0mself\u001b[0m\u001b[1;33m.\u001b[0m\u001b[0mrho\u001b[0m\u001b[1;33m)\u001b[0m \u001b[1;33m*\u001b[0m \u001b[0mgrad\u001b[0m\u001b[1;33m**\u001b[0m\u001b[1;36m2\u001b[0m\u001b[1;33m\u001b[0m\u001b[0m\n\u001b[0m\u001b[0;32m     93\u001b[0m         \u001b[0mdx\u001b[0m \u001b[1;33m=\u001b[0m \u001b[1;33m-\u001b[0m \u001b[0mgrad\u001b[0m \u001b[1;33m*\u001b[0m \u001b[0mnp\u001b[0m\u001b[1;33m.\u001b[0m\u001b[0msqrt\u001b[0m\u001b[1;33m(\u001b[0m\u001b[0mself\u001b[0m\u001b[1;33m.\u001b[0m\u001b[0mEdx2\u001b[0m \u001b[1;33m+\u001b[0m \u001b[0mself\u001b[0m\u001b[1;33m.\u001b[0m\u001b[0mepsilon\u001b[0m\u001b[1;33m)\u001b[0m\u001b[0;31m \u001b[0m\u001b[0;31m\\\u001b[0m\u001b[1;33m\u001b[0m\u001b[0m\n\u001b[0;32m     94\u001b[0m             \u001b[1;33m/\u001b[0m \u001b[0mnp\u001b[0m\u001b[1;33m.\u001b[0m\u001b[0msqrt\u001b[0m\u001b[1;33m(\u001b[0m\u001b[0mself\u001b[0m\u001b[1;33m.\u001b[0m\u001b[0mEg2\u001b[0m \u001b[1;33m+\u001b[0m \u001b[0mself\u001b[0m\u001b[1;33m.\u001b[0m\u001b[0mepsilon\u001b[0m\u001b[1;33m)\u001b[0m\u001b[1;33m\u001b[0m\u001b[0m\n",
      "\u001b[1;31mRuntimeWarning\u001b[0m: overflow encountered in square"
     ]
    }
   ],
   "source": [
    "# Learning\n",
    "params = glm.learn(Xtrain, ytrain, like, basis, regulariser=regulariser,\n",
    "                   likelihood_args=(hit,), use_sgd=use_sgd, rho=rho,\n",
    "                   epsilon=epsilon, batch_size=batch_size, maxiter=maxiter)\n",
    "\n",
    "# Expected drill hole measurements (proxy for basement depth)\n",
    "hit_predict = np.ones(Ns, dtype=bool)\n",
    "Ey, Vy, Eyn, Eyx = glm.predict_moments(Xtest, like, basis, *params,\n",
    "                                       likelihood_args=(hit_predict,))\n",
    "\n",
    "# 95% confidence interval\n",
    "y95n, y95x = glm.predict_interval(0.8, Xtest, like, basis, *params,\n",
    "                                  multiproc=False,\n",
    "                                  likelihood_args=(hit_predict,))\n"
   ]
  },
  {
   "cell_type": "code",
   "execution_count": null,
   "metadata": {
    "collapsed": false
   },
   "outputs": [],
   "source": [
    "%debug\n"
   ]
  },
  {
   "cell_type": "markdown",
   "metadata": {},
   "source": [
    "Visualise\n",
    "---------"
   ]
  },
  {
   "cell_type": "code",
   "execution_count": null,
   "metadata": {
    "collapsed": false
   },
   "outputs": [],
   "source": [
    "Xpl_t = Xtrain.flatten()\n",
    "Xpl_s = Xtest.flatten()\n",
    "\n",
    "# Regressor\n",
    "pl.figure(figsize=(fig_width, fig_height))\n",
    "pl.plot(Xpl_s, Ey, 'b-', label='GLM mean.')\n",
    "pl.plot(Xpl_s, gmean, 'r-', label='$\\mathbf{g}(\\mathbf{f})$ mean')\n",
    "pl.fill_between(Xpl_s, y95n, y95x, facecolor='none', edgecolor='b', label=None,\n",
    "                linestyle='--')\n",
    "\n",
    "# # Training/Truth\n",
    "pl.plot(Xpl_t[hit], ytrain[hit], 'k.', label='Training (hit)')\n",
    "pl.plot(Xpl_t[not_hit], ytrain[not_hit], 'kx', label='Training (not hit)')\n",
    "pl.plot(Xpl_s, gtest, 'k-', label='Truth')\n",
    "\n",
    "pl.gca().invert_yaxis()\n",
    "pl.legend()\n",
    "pl.grid(True)\n",
    "pl.title('Regression demo')\n",
    "pl.ylabel('depth')\n",
    "pl.xlabel('x')\n",
    "\n",
    "pl.show()\n"
   ]
  }
 ],
 "metadata": {
  "kernelspec": {
   "display_name": "Python 3",
   "language": "python",
   "name": "python3"
  },
  "language_info": {
   "codemirror_mode": {
    "name": "ipython",
    "version": 3
   },
   "file_extension": ".py",
   "mimetype": "text/x-python",
   "name": "python",
   "nbconvert_exporter": "python",
   "pygments_lexer": "ipython3",
   "version": "3.5.2"
  }
 },
 "nbformat": 4,
 "nbformat_minor": 0
}
