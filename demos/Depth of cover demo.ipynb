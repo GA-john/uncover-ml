{
 "cells": [
  {
   "cell_type": "markdown",
   "metadata": {},
   "source": [
    "Drill Hole Compound Likelihood Demo\n",
    "==================================="
   ]
  },
  {
   "cell_type": "code",
   "execution_count": 26,
   "metadata": {
    "collapsed": true
   },
   "outputs": [],
   "source": [
    "%matplotlib inline"
   ]
  },
  {
   "cell_type": "code",
   "execution_count": 27,
   "metadata": {
    "collapsed": false
   },
   "outputs": [],
   "source": [
    "import matplotlib.pyplot as pl\n",
    "import numpy as np\n",
    "import logging\n",
    "\n",
    "import revrand.optimize as opt\n",
    "from revrand import glm\n",
    "from revrand.basis_functions import BiasBasis, RandomRBF\n",
    "from revrand.btypes import Parameter, Positive\n",
    "from revrand.utils.datasets import gen_gausprocess_se\n",
    "from revrand.mathfun.special import softplus\n",
    "\n",
    "from uncoverml.likelihoods import Switching\n",
    "\n",
    "# Log output to the terminal attached to this notebook\n",
    "import logging\n",
    "logger = logging.getLogger()\n",
    "logger.setLevel(logging.DEBUG)\n",
    "logging.debug(\"test\")\n",
    "\n",
    "# Warning handling\n",
    "#np.seterr(all='warn')\n",
    "import warnings\n",
    "warnings.filterwarnings('error')\n"
   ]
  },
  {
   "cell_type": "markdown",
   "metadata": {},
   "source": [
    "Demo settings\n",
    "-------------"
   ]
  },
  {
   "cell_type": "code",
   "execution_count": 28,
   "metadata": {
    "collapsed": true
   },
   "outputs": [],
   "source": [
    "# Dataset properties\n",
    "N = 300\n",
    "Ns = 250\n",
    "offset = 20\n",
    "lenscale_true = 0.7  # For the gpdraw dataset\n",
    "noise_true = 0.1\n",
    "hit_proportion = 1.0\n",
    "\n",
    "fig_width = 15\n",
    "fig_height = 10\n"
   ]
  },
  {
   "cell_type": "markdown",
   "metadata": {},
   "source": [
    "Algorithm Settings\n",
    "------------------"
   ]
  },
  {
   "cell_type": "code",
   "execution_count": 29,
   "metadata": {
    "collapsed": true
   },
   "outputs": [],
   "source": [
    "nbases = 100\n",
    "lenscale = 1  # For all basis functions that take lengthscales\n",
    "maxiter = 3000\n",
    "batch_size = 10\n",
    "kappa = 6\n",
    "use_sgd = True\n",
    "regulariser = 1.\n",
    "noise = 0.5\n",
    "#updater = opt.Adam(alpha=0.01, epsilon=1e-7)\n",
    "updater = opt.AdaDelta()\n"
   ]
  },
  {
   "cell_type": "markdown",
   "metadata": {},
   "source": [
    "Make data\n",
    "---------"
   ]
  },
  {
   "cell_type": "code",
   "execution_count": 30,
   "metadata": {
    "collapsed": true
   },
   "outputs": [],
   "source": [
    "hit = np.random.binomial(n=1, p=hit_proportion, size=N).astype(bool)\n",
    "not_hit = ~ hit\n",
    "Xtrain, ftrain, Xtest, ftest = \\\n",
    "    gen_gausprocess_se(N, Ns, lenscale=lenscale_true, noise=0.0)\n",
    "\n",
    "gtrain = ftrain + offset\n",
    "gtest = ftest + offset\n",
    "\n",
    "ytrain = np.empty(N)\n",
    "ytrain[hit] = gtrain[hit] + np.random.randn(hit.sum()) * noise_true\n",
    "ytrain[not_hit] = np.random.rand(not_hit.sum()) * gtrain[not_hit]\n"
   ]
  },
  {
   "cell_type": "markdown",
   "metadata": {},
   "source": [
    "Set up likelihood and Basis\n",
    "---------------------------"
   ]
  },
  {
   "cell_type": "code",
   "execution_count": null,
   "metadata": {
    "collapsed": false
   },
   "outputs": [],
   "source": [
    "# Make parameter types\n",
    "var = Parameter(noise**2, Positive())\n",
    "regulariser = Parameter(regulariser, Positive())\n",
    "lenscale_init = Parameter(lenscale, Positive())\n",
    "\n",
    "# Likelihood\n",
    "learn_args = (hit,)\n",
    "pred_args = (np.ones(Ns, dtype=bool),)\n",
    "like = Switching(var_init=var)\n",
    "\n",
    "# Regression Basis\n",
    "basis = BiasBasis(offset=1) \\\n",
    "    + RandomRBF(nbases, Xtrain.shape[1], lenscale_init)\n"
   ]
  },
  {
   "cell_type": "markdown",
   "metadata": {},
   "source": [
    "Learning and prediction\n",
    "-----------------------"
   ]
  },
  {
   "cell_type": "code",
   "execution_count": null,
   "metadata": {
    "collapsed": false
   },
   "outputs": [
    {
     "name": "stdout",
     "output_type": "stream",
     "text": [
      "fmin: -0.7129570379739651, fmax: 6.92929254518517, fshape: (10,)\n",
      "fmin: -0.8648663529540834, fmax: 5.886606769030554, fshape: (10,)\n",
      "fmin: -0.6974690518024269, fmax: 6.642842054047249, fshape: (10,)\n",
      "fmin: 0.6609389606292654, fmax: 4.054665315049257, fshape: (10,)\n",
      "fmin: 1.5447264870735777, fmax: 4.735310875951761, fshape: (10,)\n",
      "fmin: 1.812243418506784, fmax: 5.2636029246857525, fshape: (10,)\n",
      "fmin: 0.33612538486103544, fmax: 7.078579486449264, fshape: (10,)\n",
      "fmin: 3.989331686249216, fmax: 6.222882554282731, fshape: (10,)\n"
     ]
    }
   ],
   "source": [
    "# Learning\n",
    "params = glm.learn(Xtrain, ytrain, like, basis, regulariser=regulariser,\n",
    "                   likelihood_args=learn_args, use_sgd=use_sgd,\n",
    "                   batch_size=batch_size, maxiter=maxiter, updater=updater)\n",
    "\n",
    "# Expected drill hole measurements (proxy for basement depth)\n",
    "Ey, Vy, Eyn, Eyx = glm.predict_moments(Xtest, like, basis, *params,\n",
    "                                       likelihood_args=pred_args)\n",
    "\n",
    "# 95% confidence interval\n",
    "y95n, y95x = glm.predict_interval(0.8, Xtest, like, basis, *params,\n",
    "                                  multiproc=False,\n",
    "                                  likelihood_args=pred_args)\n"
   ]
  },
  {
   "cell_type": "markdown",
   "metadata": {},
   "source": [
    "Visualise\n",
    "---------"
   ]
  },
  {
   "cell_type": "code",
   "execution_count": null,
   "metadata": {
    "collapsed": false
   },
   "outputs": [],
   "source": [
    "Xpl_t = Xtrain.flatten()\n",
    "Xpl_s = Xtest.flatten()\n",
    "\n",
    "# Regressor\n",
    "pl.figure(figsize=(fig_width, fig_height))\n",
    "pl.plot(Xpl_s, Ey, 'b-', label='GLM mean.')\n",
    "#pl.plot(Xpl_s, gmean, 'r-', label='$\\mathbf{g}(\\mathbf{f})$ mean')\n",
    "pl.fill_between(Xpl_s, y95n, y95x, facecolor='none', edgecolor='b', label=None,\n",
    "                linestyle='--')\n",
    "\n",
    "# # Training/Truth\n",
    "pl.plot(Xpl_t[hit], ytrain[hit], 'k.', label='Training (hit)')\n",
    "pl.plot(Xpl_t[not_hit], ytrain[not_hit], 'kx', label='Training (not hit)')\n",
    "pl.plot(Xpl_s, gtest, 'k-', label='Truth')\n",
    "\n",
    "pl.gca().invert_yaxis()\n",
    "pl.legend()\n",
    "pl.grid(True)\n",
    "pl.title('Regression demo')\n",
    "pl.ylabel('depth')\n",
    "pl.xlabel('x')\n",
    "\n",
    "pl.show()\n"
   ]
  },
  {
   "cell_type": "code",
   "execution_count": null,
   "metadata": {
    "collapsed": true
   },
   "outputs": [],
   "source": []
  }
 ],
 "metadata": {
  "kernelspec": {
   "display_name": "Python 3",
   "language": "python",
   "name": "python3"
  },
  "language_info": {
   "codemirror_mode": {
    "name": "ipython",
    "version": 3
   },
   "file_extension": ".py",
   "mimetype": "text/x-python",
   "name": "python",
   "nbconvert_exporter": "python",
   "pygments_lexer": "ipython3",
   "version": "3.5.2"
  }
 },
 "nbformat": 4,
 "nbformat_minor": 0
}
