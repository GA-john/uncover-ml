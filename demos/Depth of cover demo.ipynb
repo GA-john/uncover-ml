{
 "cells": [
  {
   "cell_type": "markdown",
   "metadata": {},
   "source": [
    "Drill Hole Compound Likelihood Demo\n",
    "==================================="
   ]
  },
  {
   "cell_type": "code",
   "execution_count": 1,
   "metadata": {
    "collapsed": true
   },
   "outputs": [],
   "source": [
    "%matplotlib inline"
   ]
  },
  {
   "cell_type": "code",
   "execution_count": 2,
   "metadata": {
    "collapsed": false
   },
   "outputs": [],
   "source": [
    "import matplotlib.pyplot as pl\n",
    "import numpy as np\n",
    "import logging\n",
    "\n",
    "import revrand.optimize as opt\n",
    "from revrand import glm\n",
    "from revrand.basis_functions import BiasBasis, RandomRBF\n",
    "from revrand.btypes import Parameter, Positive\n",
    "from revrand.utils.datasets import gen_gausprocess_se\n",
    "from revrand.mathfun.special import softplus\n",
    "\n",
    "from uncoverml.likelihoods import Switching, PosGaussian\n",
    "\n",
    "# Log output to the terminal attached to this notebook\n",
    "import logging\n",
    "logger = logging.getLogger()\n",
    "logger.setLevel(logging.DEBUG)\n",
    "logging.debug(\"test\")\n",
    "\n",
    "# Warning handling\n",
    "#np.seterr(all='warn')\n",
    "import warnings\n",
    "warnings.filterwarnings('error')\n"
   ]
  },
  {
   "cell_type": "markdown",
   "metadata": {},
   "source": [
    "Demo settings\n",
    "-------------"
   ]
  },
  {
   "cell_type": "code",
   "execution_count": 3,
   "metadata": {
    "collapsed": true
   },
   "outputs": [],
   "source": [
    "# Dataset properties\n",
    "N = 300\n",
    "Ns = 250\n",
    "offset = 20\n",
    "lenscale_true = 1.2  # For the gpdraw dataset\n",
    "noise_true = 0.1\n",
    "hit_proportion = 0.0\n",
    "\n",
    "fig_width = 15\n",
    "fig_height = 10\n"
   ]
  },
  {
   "cell_type": "markdown",
   "metadata": {},
   "source": [
    "Algorithm Settings\n",
    "------------------"
   ]
  },
  {
   "cell_type": "code",
   "execution_count": 4,
   "metadata": {
    "collapsed": true
   },
   "outputs": [],
   "source": [
    "nbases = 20\n",
    "lenscale = 1  # For all basis functions that take lengthscales\n",
    "maxiter = 3000\n",
    "batch_size = 10\n",
    "use_sgd = True\n",
    "regulariser = 1.\n",
    "noise = 1.\n",
    "#updater = opt.AdaDelta(rho=0.1, epsilon=1e-6)\n",
    "updater = opt.Adam(alpha=0.01, epsilon=1e-5, beta1=0.1, beta2=0.3)\n"
   ]
  },
  {
   "cell_type": "markdown",
   "metadata": {},
   "source": [
    "Make data\n",
    "---------"
   ]
  },
  {
   "cell_type": "code",
   "execution_count": 5,
   "metadata": {
    "collapsed": true
   },
   "outputs": [],
   "source": [
    "hit = np.random.binomial(n=1, p=hit_proportion, size=N).astype(bool)\n",
    "not_hit = ~ hit\n",
    "Xtrain, ftrain, Xtest, ftest = \\\n",
    "    gen_gausprocess_se(N, Ns, lenscale=lenscale_true, noise=0.0)\n",
    "\n",
    "gtrain = ftrain + offset\n",
    "gtest = ftest + offset\n",
    "\n",
    "ytrain = np.empty(N)\n",
    "ytrain[hit] = gtrain[hit] + np.random.randn(hit.sum()) * noise_true\n",
    "ytrain[not_hit] = np.random.rand(not_hit.sum()) * gtrain[not_hit]\n"
   ]
  },
  {
   "cell_type": "markdown",
   "metadata": {},
   "source": [
    "Set up likelihood and Basis\n",
    "---------------------------"
   ]
  },
  {
   "cell_type": "code",
   "execution_count": 6,
   "metadata": {
    "collapsed": false
   },
   "outputs": [],
   "source": [
    "# Make parameter types\n",
    "var = Parameter(noise**2, Positive())\n",
    "regulariser = Parameter(regulariser, Positive())\n",
    "lenscale_init = Parameter(lenscale, Positive(10))\n",
    "\n",
    "# Likelihood\n",
    "learn_args = (hit,)\n",
    "pred_args = (np.ones(Ns, dtype=bool),)\n",
    "like = Switching(var_init=var)\n",
    "\n",
    "#learn_args = ()\n",
    "#pred_args = ()\n",
    "#like = PosGaussian(var_init=var)\n",
    "\n",
    "# Regression Basis\n",
    "basis = BiasBasis(offset=offset) \\\n",
    "    + RandomRBF(nbases, Xtrain.shape[1], lenscale_init)\n"
   ]
  },
  {
   "cell_type": "markdown",
   "metadata": {},
   "source": [
    "Learning and prediction\n",
    "-----------------------"
   ]
  },
  {
   "cell_type": "code",
   "execution_count": 7,
   "metadata": {
    "collapsed": false
   },
   "outputs": [
    {
     "name": "stdout",
     "output_type": "stream",
     "text": [
      "fmin: -40.97767274868346, fmax: -36.03001300440637, fshape: (10,)\n",
      "fmin: -17.0854949717672, fmax: -16.119863722342835, fshape: (10,)\n",
      "fmin: -0.5618639565510158, fmax: 1.049889778874959, fshape: (10,)\n",
      "fmin: -2.452224271256076, fmax: 0.26269140358423126, fshape: (10,)\n",
      "fmin: -3.362269246635897, fmax: 2.1324159722489866, fshape: (10,)\n",
      "fmin: -2.8635250780849635, fmax: 4.426558964479066, fshape: (10,)\n",
      "fmin: -7.040373321386459, fmax: 4.516837730603239, fshape: (10,)\n",
      "fmin: -8.568631784899479, fmax: 5.704256016983359, fshape: (10,)\n",
      "fmin: -7.854714949379624, fmax: 7.136993095719642, fshape: (10,)\n",
      "fmin: -9.598769730859994, fmax: 7.973986482621383, fshape: (10,)\n",
      "fmin: -8.51854868686283, fmax: 6.667264615204894, fshape: (10,)\n",
      "fmin: -10.410194078575731, fmax: 4.05774388727976, fshape: (10,)\n",
      "fmin: -7.387527611076125, fmax: 7.527732383807039, fshape: (10,)\n",
      "fmin: -10.447084236230811, fmax: 4.730685856225785, fshape: (10,)\n",
      "fmin: -6.937001798890388, fmax: 5.442258586433467, fshape: (10,)\n",
      "fmin: -10.21953758354639, fmax: 6.285337240456419, fshape: (10,)\n",
      "fmin: -9.745414431335432, fmax: 0.5464859868302172, fshape: (10,)\n",
      "fmin: -9.943074843523757, fmax: 4.05482893034698, fshape: (10,)\n",
      "fmin: -8.720195270872315, fmax: 0.07395172814704176, fshape: (10,)\n",
      "fmin: -7.13942308304336, fmax: 0.4273419427694765, fshape: (10,)\n",
      "fmin: -7.533019279066283, fmax: 0.040844481652894615, fshape: (10,)\n",
      "fmin: -5.7035745308713475, fmax: 0.16489662672933714, fshape: (10,)\n",
      "fmin: -1.0798219773559266, fmax: 0.24220822386335106, fshape: (10,)\n",
      "fmin: -3.048660374678939, fmax: 0.08843585616019364, fshape: (10,)\n",
      "fmin: -0.7124226599420201, fmax: 0.30466146637564145, fshape: (10,)\n",
      "fmin: -0.5270238963816379, fmax: 0.03503282691922852, fshape: (10,)\n",
      "fmin: -0.3486510332656782, fmax: -0.127497853997443, fshape: (10,)\n",
      "fmin: -0.33975044236792595, fmax: -0.1990618164674863, fshape: (10,)\n",
      "fmin: -0.3635807940729864, fmax: -0.21104372706096608, fshape: (10,)\n"
     ]
    },
    {
     "ename": "KeyboardInterrupt",
     "evalue": "",
     "output_type": "error",
     "traceback": [
      "\u001b[0;31m---------------------------------------------------------------------------\u001b[0m",
      "\u001b[0;31mKeyboardInterrupt\u001b[0m                         Traceback (most recent call last)",
      "\u001b[0;32m<ipython-input-7-903a3dec9877>\u001b[0m in \u001b[0;36m<module>\u001b[0;34m()\u001b[0m\n\u001b[1;32m      2\u001b[0m params = glm.learn(Xtrain, ytrain, like, basis, regulariser=regulariser,\n\u001b[1;32m      3\u001b[0m                    \u001b[0mlikelihood_args\u001b[0m\u001b[0;34m=\u001b[0m\u001b[0mlearn_args\u001b[0m\u001b[0;34m,\u001b[0m \u001b[0muse_sgd\u001b[0m\u001b[0;34m=\u001b[0m\u001b[0muse_sgd\u001b[0m\u001b[0;34m,\u001b[0m\u001b[0;34m\u001b[0m\u001b[0m\n\u001b[0;32m----> 4\u001b[0;31m                    batch_size=batch_size, maxiter=maxiter, updater=updater)\n\u001b[0m\u001b[1;32m      5\u001b[0m \u001b[0;34m\u001b[0m\u001b[0m\n\u001b[1;32m      6\u001b[0m \u001b[0;31m# Expected drill hole measurements (proxy for basement depth)\u001b[0m\u001b[0;34m\u001b[0m\u001b[0;34m\u001b[0m\u001b[0m\n",
      "\u001b[0;32m/home/dsteinberg/.virtualenvs/uncover-ml/lib/python3.5/site-packages/revrand/glm.py\u001b[0m in \u001b[0;36mlearn\u001b[0;34m(X, y, likelihood, basis, regulariser, likelihood_args, postcomp, use_sgd, maxiter, tol, batch_size, updater)\u001b[0m\n\u001b[1;32m    258\u001b[0m         \u001b[0mnsgd\u001b[0m \u001b[0;34m=\u001b[0m \u001b[0mstructured_sgd\u001b[0m\u001b[0;34m(\u001b[0m\u001b[0mlogtrick_sgd\u001b[0m\u001b[0;34m(\u001b[0m\u001b[0msgd\u001b[0m\u001b[0;34m)\u001b[0m\u001b[0;34m)\u001b[0m\u001b[0;34m\u001b[0m\u001b[0m\n\u001b[1;32m    259\u001b[0m         res = nsgd(L2, params, data, maxiter=maxiter, updater=updater,\n\u001b[0;32m--> 260\u001b[0;31m                    batch_size=batch_size, eval_obj=True)\n\u001b[0m\u001b[1;32m    261\u001b[0m \u001b[0;34m\u001b[0m\u001b[0m\n\u001b[1;32m    262\u001b[0m     \u001b[0;31m# Unpack params\u001b[0m\u001b[0;34m\u001b[0m\u001b[0;34m\u001b[0m\u001b[0m\n",
      "\u001b[0;32m/home/dsteinberg/.virtualenvs/uncover-ml/lib/python3.5/site-packages/revrand/optimize/base.py\u001b[0m in \u001b[0;36mnew_sgd\u001b[0;34m(fun, parameters, data, eval_obj, **sgd_kwargs)\u001b[0m\n\u001b[1;32m    372\u001b[0m \u001b[0;34m\u001b[0m\u001b[0m\n\u001b[1;32m    373\u001b[0m         result = sgd(new_fun, array1d, data=data, bounds=fbounds,\n\u001b[0;32m--> 374\u001b[0;31m                      eval_obj=eval_obj, **sgd_kwargs)\n\u001b[0m\u001b[1;32m    375\u001b[0m         \u001b[0mresult\u001b[0m\u001b[0;34m[\u001b[0m\u001b[0;34m'x'\u001b[0m\u001b[0;34m]\u001b[0m \u001b[0;34m=\u001b[0m \u001b[0mtuple\u001b[0m\u001b[0;34m(\u001b[0m\u001b[0munflatten\u001b[0m\u001b[0;34m(\u001b[0m\u001b[0mresult\u001b[0m\u001b[0;34m[\u001b[0m\u001b[0;34m'x'\u001b[0m\u001b[0;34m]\u001b[0m\u001b[0;34m,\u001b[0m \u001b[0mshapes\u001b[0m\u001b[0;34m)\u001b[0m\u001b[0;34m)\u001b[0m\u001b[0;34m\u001b[0m\u001b[0m\n\u001b[1;32m    376\u001b[0m         \u001b[0;32mreturn\u001b[0m \u001b[0mresult\u001b[0m\u001b[0;34m\u001b[0m\u001b[0m\n",
      "\u001b[0;32m/home/dsteinberg/.virtualenvs/uncover-ml/lib/python3.5/site-packages/revrand/optimize/base.py\u001b[0m in \u001b[0;36mnew_sgd\u001b[0;34m(fun, x0, data, bounds, eval_obj, **sgd_kwargs)\u001b[0m\n\u001b[1;32m    525\u001b[0m         \u001b[0;31m# Transform the final result\u001b[0m\u001b[0;34m\u001b[0m\u001b[0;34m\u001b[0m\u001b[0m\n\u001b[1;32m    526\u001b[0m         result = sgd(new_fun, logx(x0), data, bounds=bounds, eval_obj=eval_obj,\n\u001b[0;32m--> 527\u001b[0;31m                      **sgd_kwargs)\n\u001b[0m\u001b[1;32m    528\u001b[0m         \u001b[0mresult\u001b[0m\u001b[0;34m[\u001b[0m\u001b[0;34m'x'\u001b[0m\u001b[0;34m]\u001b[0m \u001b[0;34m=\u001b[0m \u001b[0mexpx\u001b[0m\u001b[0;34m(\u001b[0m\u001b[0mresult\u001b[0m\u001b[0;34m[\u001b[0m\u001b[0;34m'x'\u001b[0m\u001b[0;34m]\u001b[0m\u001b[0;34m)\u001b[0m\u001b[0;34m\u001b[0m\u001b[0m\n\u001b[1;32m    529\u001b[0m         \u001b[0;32mreturn\u001b[0m \u001b[0mresult\u001b[0m\u001b[0;34m\u001b[0m\u001b[0m\n",
      "\u001b[0;32m/home/dsteinberg/.virtualenvs/uncover-ml/lib/python3.5/site-packages/revrand/optimize/sgd.py\u001b[0m in \u001b[0;36msgd\u001b[0;34m(fun, x0, data, args, bounds, batch_size, maxiter, updater, eval_obj)\u001b[0m\n\u001b[1;32m    336\u001b[0m             \u001b[0mgrad\u001b[0m \u001b[0;34m=\u001b[0m \u001b[0mfun\u001b[0m\u001b[0;34m(\u001b[0m\u001b[0mx\u001b[0m\u001b[0;34m,\u001b[0m \u001b[0;34m*\u001b[0m\u001b[0mchain\u001b[0m\u001b[0;34m(\u001b[0m\u001b[0m_split_data\u001b[0m\u001b[0;34m(\u001b[0m\u001b[0mdata\u001b[0m\u001b[0;34m,\u001b[0m \u001b[0mind\u001b[0m\u001b[0;34m)\u001b[0m\u001b[0;34m,\u001b[0m \u001b[0margs\u001b[0m\u001b[0;34m)\u001b[0m\u001b[0;34m)\u001b[0m\u001b[0;34m\u001b[0m\u001b[0m\n\u001b[1;32m    337\u001b[0m         \u001b[0;32melse\u001b[0m\u001b[0;34m:\u001b[0m\u001b[0;34m\u001b[0m\u001b[0m\n\u001b[0;32m--> 338\u001b[0;31m             \u001b[0mobj\u001b[0m\u001b[0;34m,\u001b[0m \u001b[0mgrad\u001b[0m \u001b[0;34m=\u001b[0m \u001b[0mfun\u001b[0m\u001b[0;34m(\u001b[0m\u001b[0mx\u001b[0m\u001b[0;34m,\u001b[0m \u001b[0;34m*\u001b[0m\u001b[0mchain\u001b[0m\u001b[0;34m(\u001b[0m\u001b[0m_split_data\u001b[0m\u001b[0;34m(\u001b[0m\u001b[0mdata\u001b[0m\u001b[0;34m,\u001b[0m \u001b[0mind\u001b[0m\u001b[0;34m)\u001b[0m\u001b[0;34m,\u001b[0m \u001b[0margs\u001b[0m\u001b[0;34m)\u001b[0m\u001b[0;34m)\u001b[0m\u001b[0;34m\u001b[0m\u001b[0m\n\u001b[0m\u001b[1;32m    339\u001b[0m             \u001b[0mobjs\u001b[0m\u001b[0;34m.\u001b[0m\u001b[0mappend\u001b[0m\u001b[0;34m(\u001b[0m\u001b[0mobj\u001b[0m\u001b[0;34m)\u001b[0m\u001b[0;34m\u001b[0m\u001b[0m\n\u001b[1;32m    340\u001b[0m \u001b[0;34m\u001b[0m\u001b[0m\n",
      "\u001b[0;32m/home/dsteinberg/.virtualenvs/uncover-ml/lib/python3.5/site-packages/revrand/optimize/base.py\u001b[0m in \u001b[0;36mnew_fun\u001b[0;34m(x, *fargs, **fkwargs)\u001b[0m\n\u001b[1;32m    517\u001b[0m         \u001b[0;32mif\u001b[0m \u001b[0mbool\u001b[0m\u001b[0;34m(\u001b[0m\u001b[0meval_obj\u001b[0m\u001b[0;34m)\u001b[0m\u001b[0;34m:\u001b[0m\u001b[0;34m\u001b[0m\u001b[0m\n\u001b[1;32m    518\u001b[0m             \u001b[0;32mdef\u001b[0m \u001b[0mnew_fun\u001b[0m\u001b[0;34m(\u001b[0m\u001b[0mx\u001b[0m\u001b[0;34m,\u001b[0m \u001b[0;34m*\u001b[0m\u001b[0mfargs\u001b[0m\u001b[0;34m,\u001b[0m \u001b[0;34m**\u001b[0m\u001b[0mfkwargs\u001b[0m\u001b[0;34m)\u001b[0m\u001b[0;34m:\u001b[0m\u001b[0;34m\u001b[0m\u001b[0m\n\u001b[0;32m--> 519\u001b[0;31m                 \u001b[0mo\u001b[0m\u001b[0;34m,\u001b[0m \u001b[0mg\u001b[0m \u001b[0;34m=\u001b[0m \u001b[0mfun\u001b[0m\u001b[0;34m(\u001b[0m\u001b[0mexpx\u001b[0m\u001b[0;34m(\u001b[0m\u001b[0mx\u001b[0m\u001b[0;34m)\u001b[0m\u001b[0;34m,\u001b[0m \u001b[0;34m*\u001b[0m\u001b[0mfargs\u001b[0m\u001b[0;34m,\u001b[0m \u001b[0;34m**\u001b[0m\u001b[0mfkwargs\u001b[0m\u001b[0;34m)\u001b[0m\u001b[0;34m\u001b[0m\u001b[0m\n\u001b[0m\u001b[1;32m    520\u001b[0m                 \u001b[0;32mreturn\u001b[0m \u001b[0mo\u001b[0m\u001b[0;34m,\u001b[0m \u001b[0mgradx\u001b[0m\u001b[0;34m(\u001b[0m\u001b[0mg\u001b[0m\u001b[0;34m,\u001b[0m \u001b[0mx\u001b[0m\u001b[0;34m)\u001b[0m\u001b[0;34m\u001b[0m\u001b[0m\n\u001b[1;32m    521\u001b[0m         \u001b[0;32melse\u001b[0m\u001b[0;34m:\u001b[0m\u001b[0;34m\u001b[0m\u001b[0m\n",
      "\u001b[0;32m/home/dsteinberg/.virtualenvs/uncover-ml/lib/python3.5/site-packages/revrand/optimize/base.py\u001b[0m in \u001b[0;36mnew_func\u001b[0;34m(*args, **kwargs)\u001b[0m\n\u001b[1;32m    590\u001b[0m     \u001b[0;34m@\u001b[0m\u001b[0mwraps\u001b[0m\u001b[0;34m(\u001b[0m\u001b[0mfunc\u001b[0m\u001b[0;34m)\u001b[0m\u001b[0;34m\u001b[0m\u001b[0m\n\u001b[1;32m    591\u001b[0m     \u001b[0;32mdef\u001b[0m \u001b[0mnew_func\u001b[0m\u001b[0;34m(\u001b[0m\u001b[0;34m*\u001b[0m\u001b[0margs\u001b[0m\u001b[0;34m,\u001b[0m \u001b[0;34m**\u001b[0m\u001b[0mkwargs\u001b[0m\u001b[0;34m)\u001b[0m\u001b[0;34m:\u001b[0m\u001b[0;34m\u001b[0m\u001b[0m\n\u001b[0;32m--> 592\u001b[0;31m         \u001b[0mval\u001b[0m\u001b[0;34m,\u001b[0m \u001b[0mgrad\u001b[0m \u001b[0;34m=\u001b[0m \u001b[0mfunc\u001b[0m\u001b[0;34m(\u001b[0m\u001b[0;34m*\u001b[0m\u001b[0margs\u001b[0m\u001b[0;34m,\u001b[0m \u001b[0;34m**\u001b[0m\u001b[0mkwargs\u001b[0m\u001b[0;34m)\u001b[0m\u001b[0;34m\u001b[0m\u001b[0m\n\u001b[0m\u001b[1;32m    593\u001b[0m         \u001b[0;32mreturn\u001b[0m \u001b[0mval\u001b[0m\u001b[0;34m,\u001b[0m \u001b[0mflatten\u001b[0m\u001b[0;34m(\u001b[0m\u001b[0mgrad\u001b[0m\u001b[0;34m,\u001b[0m \u001b[0mreturns_shapes\u001b[0m\u001b[0;34m=\u001b[0m\u001b[0;32mFalse\u001b[0m\u001b[0;34m)\u001b[0m\u001b[0;34m\u001b[0m\u001b[0m\n\u001b[1;32m    594\u001b[0m \u001b[0;34m\u001b[0m\u001b[0m\n",
      "\u001b[0;32m/home/dsteinberg/.virtualenvs/uncover-ml/lib/python3.5/site-packages/revrand/optimize/base.py\u001b[0m in \u001b[0;36mnew_func\u001b[0;34m(array1d, *args, **kwargs)\u001b[0m\n\u001b[1;32m    636\u001b[0m         \u001b[0;32mdef\u001b[0m \u001b[0mnew_func\u001b[0m\u001b[0;34m(\u001b[0m\u001b[0marray1d\u001b[0m\u001b[0;34m,\u001b[0m \u001b[0;34m*\u001b[0m\u001b[0margs\u001b[0m\u001b[0;34m,\u001b[0m \u001b[0;34m**\u001b[0m\u001b[0mkwargs\u001b[0m\u001b[0;34m)\u001b[0m\u001b[0;34m:\u001b[0m\u001b[0;34m\u001b[0m\u001b[0m\n\u001b[1;32m    637\u001b[0m             \u001b[0margs\u001b[0m \u001b[0;34m=\u001b[0m \u001b[0mtuple\u001b[0m\u001b[0;34m(\u001b[0m\u001b[0munflatten\u001b[0m\u001b[0;34m(\u001b[0m\u001b[0marray1d\u001b[0m\u001b[0;34m,\u001b[0m \u001b[0mshapes\u001b[0m\u001b[0;34m,\u001b[0m \u001b[0morder\u001b[0m\u001b[0;34m)\u001b[0m\u001b[0;34m)\u001b[0m \u001b[0;34m+\u001b[0m \u001b[0margs\u001b[0m\u001b[0;34m\u001b[0m\u001b[0m\n\u001b[0;32m--> 638\u001b[0;31m             \u001b[0;32mreturn\u001b[0m \u001b[0mfunc\u001b[0m\u001b[0;34m(\u001b[0m\u001b[0;34m*\u001b[0m\u001b[0margs\u001b[0m\u001b[0;34m,\u001b[0m \u001b[0;34m**\u001b[0m\u001b[0mkwargs\u001b[0m\u001b[0;34m)\u001b[0m\u001b[0;34m\u001b[0m\u001b[0m\n\u001b[0m\u001b[1;32m    639\u001b[0m \u001b[0;34m\u001b[0m\u001b[0m\n\u001b[1;32m    640\u001b[0m         \u001b[0;32mreturn\u001b[0m \u001b[0mnew_func\u001b[0m\u001b[0;34m\u001b[0m\u001b[0m\n",
      "\u001b[0;32m/home/dsteinberg/.virtualenvs/uncover-ml/lib/python3.5/site-packages/revrand/glm.py\u001b[0m in \u001b[0;36mL2\u001b[0;34m(m, C, reg, *args)\u001b[0m\n\u001b[1;32m    177\u001b[0m \u001b[0;34m\u001b[0m\u001b[0m\n\u001b[1;32m    178\u001b[0m         \u001b[0;31m# Posterior responsability terms\u001b[0m\u001b[0;34m\u001b[0m\u001b[0;34m\u001b[0m\u001b[0m\n\u001b[0;32m--> 179\u001b[0;31m         \u001b[0mlogqkk\u001b[0m \u001b[0;34m=\u001b[0m \u001b[0m_qmatrix\u001b[0m\u001b[0;34m(\u001b[0m\u001b[0mm\u001b[0m\u001b[0;34m,\u001b[0m \u001b[0mC\u001b[0m\u001b[0;34m)\u001b[0m\u001b[0;34m\u001b[0m\u001b[0m\n\u001b[0m\u001b[1;32m    180\u001b[0m         \u001b[0mlogqk\u001b[0m \u001b[0;34m=\u001b[0m \u001b[0mlogsumexp\u001b[0m\u001b[0;34m(\u001b[0m\u001b[0mlogqkk\u001b[0m\u001b[0;34m,\u001b[0m \u001b[0maxis\u001b[0m\u001b[0;34m=\u001b[0m\u001b[0;36m0\u001b[0m\u001b[0;34m)\u001b[0m  \u001b[0;31m# log term of Eq. 7 from [1]\u001b[0m\u001b[0;34m\u001b[0m\u001b[0m\n\u001b[1;32m    181\u001b[0m         \u001b[0mpz\u001b[0m \u001b[0;34m=\u001b[0m \u001b[0mnp\u001b[0m\u001b[0;34m.\u001b[0m\u001b[0mexp\u001b[0m\u001b[0;34m(\u001b[0m\u001b[0mlogqkk\u001b[0m \u001b[0;34m-\u001b[0m \u001b[0mlogqk\u001b[0m\u001b[0;34m)\u001b[0m\u001b[0;34m\u001b[0m\u001b[0m\n",
      "\u001b[0;32m/home/dsteinberg/.virtualenvs/uncover-ml/lib/python3.5/site-packages/revrand/glm.py\u001b[0m in \u001b[0;36m_qmatrix\u001b[0;34m(m, C, k)\u001b[0m\n\u001b[1;32m    681\u001b[0m         logq = [[_dgausll(m[:, i], m[:, j], C[:, i] + C[:, j])\n\u001b[1;32m    682\u001b[0m                  for i in range(K)]\n\u001b[0;32m--> 683\u001b[0;31m                 for j in range(K)]\n\u001b[0m\u001b[1;32m    684\u001b[0m     \u001b[0;32melse\u001b[0m\u001b[0;34m:\u001b[0m\u001b[0;34m\u001b[0m\u001b[0m\n\u001b[1;32m    685\u001b[0m         logq = [_dgausll(m[:, k], m[:, j], C[:, k] + C[:, j])\n",
      "\u001b[0;32m/home/dsteinberg/.virtualenvs/uncover-ml/lib/python3.5/site-packages/revrand/glm.py\u001b[0m in \u001b[0;36m<listcomp>\u001b[0;34m(.0)\u001b[0m\n\u001b[1;32m    681\u001b[0m         logq = [[_dgausll(m[:, i], m[:, j], C[:, i] + C[:, j])\n\u001b[1;32m    682\u001b[0m                  for i in range(K)]\n\u001b[0;32m--> 683\u001b[0;31m                 for j in range(K)]\n\u001b[0m\u001b[1;32m    684\u001b[0m     \u001b[0;32melse\u001b[0m\u001b[0;34m:\u001b[0m\u001b[0;34m\u001b[0m\u001b[0m\n\u001b[1;32m    685\u001b[0m         logq = [_dgausll(m[:, k], m[:, j], C[:, k] + C[:, j])\n",
      "\u001b[0;32m/home/dsteinberg/.virtualenvs/uncover-ml/lib/python3.5/site-packages/revrand/glm.py\u001b[0m in \u001b[0;36m<listcomp>\u001b[0;34m(.0)\u001b[0m\n\u001b[1;32m    680\u001b[0m     \u001b[0;32mif\u001b[0m \u001b[0mk\u001b[0m \u001b[0;32mis\u001b[0m \u001b[0;32mNone\u001b[0m\u001b[0;34m:\u001b[0m\u001b[0;34m\u001b[0m\u001b[0m\n\u001b[1;32m    681\u001b[0m         logq = [[_dgausll(m[:, i], m[:, j], C[:, i] + C[:, j])\n\u001b[0;32m--> 682\u001b[0;31m                  for i in range(K)]\n\u001b[0m\u001b[1;32m    683\u001b[0m                 for j in range(K)]\n\u001b[1;32m    684\u001b[0m     \u001b[0;32melse\u001b[0m\u001b[0;34m:\u001b[0m\u001b[0;34m\u001b[0m\u001b[0m\n",
      "\u001b[0;31mKeyboardInterrupt\u001b[0m: "
     ]
    }
   ],
   "source": [
    "# Learning\n",
    "params = glm.learn(Xtrain, ytrain, like, basis, regulariser=regulariser,\n",
    "                   likelihood_args=learn_args, use_sgd=use_sgd,\n",
    "                   batch_size=batch_size, maxiter=maxiter, updater=updater)\n",
    "\n",
    "# Expected drill hole measurements (proxy for basement depth)\n",
    "Ey, Vy, Eyn, Eyx = glm.predict_moments(Xtest, like, basis, *params,\n",
    "                                       likelihood_args=pred_args)\n",
    "\n",
    "# 95% confidence interval\n",
    "y95n, y95x = glm.predict_interval(0.8, Xtest, like, basis, *params,\n",
    "                                  multiproc=False,\n",
    "                                  likelihood_args=pred_args)\n"
   ]
  },
  {
   "cell_type": "markdown",
   "metadata": {},
   "source": [
    "Visualise\n",
    "---------"
   ]
  },
  {
   "cell_type": "code",
   "execution_count": null,
   "metadata": {
    "collapsed": false
   },
   "outputs": [],
   "source": [
    "Xpl_t = Xtrain.flatten()\n",
    "Xpl_s = Xtest.flatten()\n",
    "\n",
    "# Regressor\n",
    "pl.figure(figsize=(fig_width, fig_height))\n",
    "pl.plot(Xpl_s, Ey, 'b-', label='GLM mean.')\n",
    "pl.fill_between(Xpl_s, y95n, y95x, facecolor='none', edgecolor='b', label=None,\n",
    "                linestyle='--')\n",
    "\n",
    "# # Training/Truth\n",
    "pl.plot(Xpl_t[hit], ytrain[hit], 'k.', label='Training (hit)')\n",
    "pl.plot(Xpl_t[not_hit], ytrain[not_hit], 'kx', label='Training (not hit)')\n",
    "pl.plot(Xpl_s, gtest, 'k-', label='Truth')\n",
    "\n",
    "pl.gca().invert_yaxis()\n",
    "pl.legend()\n",
    "pl.grid(True)\n",
    "pl.title('Regression demo')\n",
    "pl.ylabel('depth')\n",
    "pl.xlabel('x')\n",
    "\n",
    "pl.show()\n"
   ]
  },
  {
   "cell_type": "code",
   "execution_count": null,
   "metadata": {
    "collapsed": true
   },
   "outputs": [],
   "source": []
  }
 ],
 "metadata": {
  "kernelspec": {
   "display_name": "Python 3",
   "language": "python",
   "name": "python3"
  },
  "language_info": {
   "codemirror_mode": {
    "name": "ipython",
    "version": 3
   },
   "file_extension": ".py",
   "mimetype": "text/x-python",
   "name": "python",
   "nbconvert_exporter": "python",
   "pygments_lexer": "ipython3",
   "version": "3.5.2"
  }
 },
 "nbformat": 4,
 "nbformat_minor": 0
}
